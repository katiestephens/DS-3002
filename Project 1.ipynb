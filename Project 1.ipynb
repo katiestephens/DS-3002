{
 "cells": [
  {
   "cell_type": "code",
   "execution_count": null,
   "id": "10494275",
   "metadata": {},
   "outputs": [],
   "source": [
    "# Project 1 \n",
    "# Katie Stephens\n",
    "# 3/14/2022\n"
   ]
  },
  {
   "cell_type": "code",
   "execution_count": 58,
   "id": "183f74db",
   "metadata": {},
   "outputs": [],
   "source": [
    "# Importing Packages Needed to Run Program\n",
    "\n",
    "import pandas as pd\n",
    "import os\n",
    "import numpy as np"
   ]
  },
  {
   "cell_type": "code",
   "execution_count": 51,
   "id": "7fcff79f",
   "metadata": {},
   "outputs": [],
   "source": [
    "# Fetching Local File\n",
    "\n",
    "gas = pd.read_csv('/Users/katiestephens/Desktop/YEAR 3/DS 3002/gas_prices.csv')"
   ]
  },
  {
   "cell_type": "code",
   "execution_count": 70,
   "id": "7092bc36",
   "metadata": {},
   "outputs": [
    {
     "name": "stdout",
     "output_type": "stream",
     "text": [
      "The largest average price across countries during the years 1990-2008 was: $ 5.61 .\n",
      "The smallest average price across countries during the years 1990-2008 was: $ 2.55 .\n"
     ]
    }
   ],
   "source": [
    "# Adding a New Column\n",
    "\n",
    "gas['Overall (1990-2008) Average'] = gas[['Australia', 'Canada', 'France', 'Germany', 'Italy', 'Japan',\n",
    "                      'Mexico', 'South Korea', 'UK', 'USA']].mean(axis=1)\n",
    "\n",
    "\n",
    "# Using New Column to Find out More\n",
    "# Most Expensive Average Price \n",
    "max_price = round(max(gas['Overall (1990-2008) Average']),2)\n",
    "\n",
    "# Least Expensive Average Price\n",
    "min_price = round(min(gas['Overall (1990-2008) Average']),2)\n",
    "\n",
    "print('The largest average price across countries during the years 1990-2008 was:' + ' $', max_price, '.')\n",
    "print('The smallest average price across countries during the years 1990-2008 was:' + ' $', min_price, '.')\n"
   ]
  },
  {
   "cell_type": "code",
   "execution_count": 49,
   "id": "508ffcb9",
   "metadata": {},
   "outputs": [
    {
     "name": "stdout",
     "output_type": "stream",
     "text": [
      "Number of columns : 14\n",
      "Number of observations: 266\n"
     ]
    }
   ],
   "source": [
    "# Summary\n",
    "\n",
    "shape = gas.shape\n",
    "  \n",
    "# Number of Columns\n",
    "print('Number of columns :', shape[1])\n",
    "\n",
    "\n",
    "# Number of Records \n",
    "\n",
    "print('Number of observations:', shape[1] * shape[0])\n"
   ]
  },
  {
   "cell_type": "code",
   "execution_count": null,
   "id": "4421545a",
   "metadata": {},
   "outputs": [],
   "source": [
    "# Writing New File to Local File with User input of either JSON or CSV. If a different input, \n",
    "# throws an error prompting the user to input either CSV or JSON\n",
    "\n",
    "file_type = input(\"Enter an output file type:\")\n",
    "\n",
    "if file_type == 'JSON':\n",
    "    data_dir = os.path.join(os.getcwd())\n",
    "    dest_file = os.path.join(data_dir, 'gas_prices.json')\n",
    "    gas.to_json(dest_file)\n",
    "    print('JSON file outputted as \"gas_prices.json\"')\n",
    "elif file_type == 'CSV':\n",
    "    data_dir = os.path.join(os.getcwd())\n",
    "    dest_file = os.path.join(data_dir, 'gas_prices.csv')\n",
    "    gas.to_csv(dest_file)\n",
    "    print('CSV file outputted as \"gas_prices.csv\"')\n",
    "else:\n",
    "    print('File type not found. Please run again and enter either CSV or JSON')\n"
   ]
  }
 ],
 "metadata": {
  "kernelspec": {
   "display_name": "Python 3",
   "language": "python",
   "name": "python3"
  },
  "language_info": {
   "codemirror_mode": {
    "name": "ipython",
    "version": 3
   },
   "file_extension": ".py",
   "mimetype": "text/x-python",
   "name": "python",
   "nbconvert_exporter": "python",
   "pygments_lexer": "ipython3",
   "version": "3.8.8"
  }
 },
 "nbformat": 4,
 "nbformat_minor": 5
}
