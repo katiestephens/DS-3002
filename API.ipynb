{
 "cells": [
  {
   "cell_type": "code",
   "execution_count": 1,
   "id": "397cb94c",
   "metadata": {},
   "outputs": [],
   "source": [
    "#1vFPBaImXL3jeIQYBTXwn8VVo92v1HNK4PCDZkSp\n",
    "import json\n",
    "import requests\n",
    "import yfinance as yf"
   ]
  },
  {
   "cell_type": "code",
   "execution_count": 2,
   "id": "e8598de1",
   "metadata": {},
   "outputs": [
    {
     "name": "stdout",
     "output_type": "stream",
     "text": [
      "{\"quoteResponse\":{\"result\":[{\"language\":\"en-US\",\"region\":\"US\",\"quoteType\":\"EQUITY\",\"quoteSourceName\":\"Nasdaq Real Time Price\",\"triggerable\":true,\"customPriceAlertConfidence\":\"HIGH\",\"currency\":\"USD\",\"exchange\":\"NMS\",\"shortName\":\"Apple Inc.\",\"longName\":\"Apple Inc.\",\"messageBoardId\":\"finmb_24937\",\"exchangeTimezoneName\":\"America/New_York\",\"exchangeTimezoneShortName\":\"EST\",\"gmtOffSetMilliseconds\":-18000000,\"market\":\"us_market\",\"esgPopulated\":false,\"marketState\":\"PRE\",\"firstTradeDateMilliseconds\":345479400000,\"priceHint\":2,\"preMarketChange\":1.5400085,\"preMarketChangePercent\":0.9245969,\"preMarketTime\":1646316623,\"preMarketPrice\":168.1,\"regularMarketChange\":3.3600006,\"regularMarketChangePercent\":2.058824,\"regularMarketTime\":1646254803,\"regularMarketPrice\":166.56,\"regularMarketDayHigh\":167.35,\"regularMarketDayRange\":\"162.95 - 167.35\",\"regularMarketDayLow\":162.95,\"regularMarketVolume\":79724750,\"regularMarketPreviousClose\":163.2,\"bid\":167.01,\"ask\":0.0,\"bidSize\":12,\"askSize\":8,\"fullExchangeName\":\"NasdaqGS\",\"financialCurrency\":\"USD\",\"regularMarketOpen\":164.39,\"averageDailyVolume3Month\":98938256,\"averageDailyVolume10Day\":88583900,\"fiftyTwoWeekLowChange\":50.35,\"fiftyTwoWeekLowChangePercent\":0.43326735,\"fiftyTwoWeekRange\":\"116.21 - 182.94\",\"fiftyTwoWeekHighChange\":-16.380005,\"fiftyTwoWeekHighChangePercent\":-0.089537576,\"fiftyTwoWeekLow\":116.21,\"fiftyTwoWeekHigh\":182.94,\"dividendDate\":1644451200,\"earningsTimestamp\":1643301000,\"earningsTimestampStart\":1651003200,\"earningsTimestampEnd\":1651521600,\"trailingAnnualDividendRate\":0.865,\"trailingPE\":27.690773,\"trailingAnnualDividendYield\":0.0053002452,\"epsTrailingTwelveMonths\":6.015,\"epsForward\":6.56,\"epsCurrentYear\":6.16,\"priceEpsCurrentYear\":27.038961,\"sharesOutstanding\":16319399936,\"bookValue\":4.402,\"fiftyDayAverage\":170.8638,\"fiftyDayAverageChange\":-4.3038025,\"fiftyDayAverageChangePercent\":-0.025188498,\"twoHundredDayAverage\":152.41255,\"twoHundredDayAverageChange\":14.147446,\"twoHundredDayAverageChangePercent\":0.092823364,\"marketCap\":2718159339520,\"forwardPE\":25.390244,\"priceToBook\":37.837345,\"sourceInterval\":15,\"exchangeDataDelayedBy\":0,\"pageViewGrowthWeekly\":0.20386596,\"averageAnalystRating\":\"1.8 - Buy\",\"tradeable\":false,\"displayName\":\"Apple\",\"symbol\":\"AAPL\"},{\"language\":\"en-US\",\"region\":\"US\",\"quoteType\":\"CRYPTOCURRENCY\",\"quoteSourceName\":\"CoinMarketCap\",\"triggerable\":true,\"customPriceAlertConfidence\":\"HIGH\",\"currency\":\"USD\",\"exchange\":\"CCC\",\"shortName\":\"Bitcoin USD\",\"messageBoardId\":\"finmb_BTC_CCC\",\"exchangeTimezoneName\":\"UTC\",\"exchangeTimezoneShortName\":\"UTC\",\"gmtOffSetMilliseconds\":0,\"market\":\"ccc_market\",\"esgPopulated\":false,\"marketState\":\"REGULAR\",\"firstTradeDateMilliseconds\":1410912000000,\"priceHint\":2,\"circulatingSupply\":18973280,\"lastMarket\":\"CoinMarketCap\",\"volume24Hr\":27874711552,\"volumeAllCurrencies\":27874711552,\"fromCurrency\":\"BTC\",\"toCurrency\":\"USD=X\",\"regularMarketChange\":369.6172,\"regularMarketChangePercent\":0.84761393,\"regularMarketTime\":1646316600,\"regularMarketPrice\":43976.54,\"regularMarketDayHigh\":44017.53,\"regularMarketDayRange\":\"43099.46 - 44017.53\",\"regularMarketDayLow\":43099.46,\"regularMarketVolume\":27874711552,\"regularMarketPreviousClose\":43933.176,\"fullExchangeName\":\"CCC\",\"regularMarketOpen\":43933.176,\"averageDailyVolume3Month\":28146034581,\"averageDailyVolume10Day\":28782188446,\"startDate\":1367107200,\"coinImageUrl\":\"https://s.yimg.com/uc/fin/img/reports-thumbnails/1.png\",\"fiftyTwoWeekLowChange\":15082.918,\"fiftyTwoWeekLowChangePercent\":0.5220155,\"fiftyTwoWeekRange\":\"28893.621 - 68789.625\",\"fiftyTwoWeekHighChange\":-24813.086,\"fiftyTwoWeekHighChangePercent\":-0.36070973,\"fiftyTwoWeekLow\":28893.621,\"fiftyTwoWeekHigh\":68789.625,\"fiftyDayAverage\":40406.5,\"fiftyDayAverageChange\":3570.039,\"fiftyDayAverageChangePercent\":0.08835309,\"twoHundredDayAverage\":49172.355,\"twoHundredDayAverageChange\":-5195.8164,\"twoHundredDayAverageChangePercent\":-0.10566539,\"marketCap\":834379251712,\"sourceInterval\":15,\"exchangeDataDelayedBy\":0,\"tradeable\":false,\"symbol\":\"BTC-USD\"},{\"language\":\"en-US\",\"region\":\"US\",\"quoteType\":\"CURRENCY\",\"quoteSourceName\":\"Delayed Quote\",\"triggerable\":true,\"customPriceAlertConfidence\":\"HIGH\",\"currency\":\"USD\",\"shortName\":\"EUR/USD\",\"regularMarketChange\":-0.003575921,\"regularMarketChangePercent\":-0.32150826,\"regularMarketPrice\":1.1086475,\"regularMarketDayHigh\":1.1127183,\"regularMarketDayLow\":1.107052,\"regularMarketPreviousClose\":1.1122234,\"bid\":1.1087704,\"ask\":1.108156,\"regularMarketOpen\":1.111976,\"fiftyTwoWeekLow\":1.1058521,\"fiftyTwoWeekHigh\":1.2267003,\"fiftyDayAverage\":1.1326277,\"twoHundredDayAverage\":1.1479862,\"exchange\":\"CCY\",\"messageBoardId\":\"finmb_EUR_X\",\"exchangeTimezoneName\":\"Europe/London\",\"exchangeTimezoneShortName\":\"GMT\",\"gmtOffSetMilliseconds\":0,\"market\":\"ccy_market\",\"esgPopulated\":false,\"marketState\":\"REGULAR\",\"firstTradeDateMilliseconds\":1070236800000,\"priceHint\":4,\"regularMarketTime\":1646316564,\"regularMarketDayRange\":\"1.107052 - 1.1127183\",\"regularMarketVolume\":0,\"bidSize\":0,\"askSize\":0,\"fullExchangeName\":\"CCY\",\"averageDailyVolume3Month\":0,\"averageDailyVolume10Day\":0,\"fiftyTwoWeekLowChange\":0.086804986,\"fiftyTwoWeekLowChangePercent\":0.07849602,\"fiftyTwoWeekRange\":\"1.1058521 - 1.2267003\",\"fiftyTwoWeekHighChange\":-0.0022799969,\"fiftyTwoWeekHighChangePercent\":-0.0018586421,\"fiftyDayAverageChange\":0.019097388,\"fiftyDayAverageChangePercent\":0.016861133,\"twoHundredDayAverageChange\":0.03090936,\"twoHundredDayAverageChangePercent\":0.026924854,\"sourceInterval\":15,\"exchangeDataDelayedBy\":0,\"tradeable\":false,\"symbol\":\"EURUSD=X\"}],\"error\":null}}\n"
     ]
    }
   ],
   "source": [
    "url = \"https://yfapi.net/v6/finance/quote\"\n",
    "\n",
    "querystring = {\"symbols\":\"AAPL,BTC-USD,EURUSD=X\"}\n",
    "\n",
    "headers = {\n",
    "    'x-api-key': \"1vFPBaImXL3jeIQYBTXwn8VVo92v1HNK4PCDZkSp\"\n",
    "    }\n",
    "\n",
    "response = requests.request(\"GET\", url, headers=headers, params=querystring)\n",
    "\n",
    "print(response.text)"
   ]
  },
  {
   "cell_type": "code",
   "execution_count": 4,
   "id": "e9199cc4",
   "metadata": {},
   "outputs": [],
   "source": [
    "# 1. Write a Python Program that accepts user input on a valid Stock TIcker\n",
    "# 2. it can be as many as you like\n",
    "# 3. output is the Long Name of the stock and it's current Price\n",
    "# 4. throw an error code if you can't find that stock\n",
    "# hint - search/google on accepting inputs from a user ArgV...\n",
    "# for example this is what it should do\n",
    "\n",
    "# python3 stockquote.py orcl,tsla,msft\n",
    "# result would be:\n",
    "# Oracle Corps: 74.45\n",
    "# Tesla Motors:  967\n",
    "# Due Friday at midnightabs\n"
   ]
  },
  {
   "cell_type": "code",
   "execution_count": 12,
   "id": "df9dd3b7",
   "metadata": {},
   "outputs": [
    {
     "name": "stdout",
     "output_type": "stream",
     "text": [
      "Oracle Corporation : 78.28\n"
     ]
    }
   ],
   "source": [
    "stock_info = yf.Ticker('ORCL').info\n",
    "\n",
    "# stock_info.keys() for other properties you can explore\n",
    "market_price = stock_info['regularMarketPrice']\n",
    "long_name = stock_info['longName']\n",
    "print(long_name, ':' , market_price)"
   ]
  },
  {
   "cell_type": "code",
   "execution_count": 13,
   "id": "90710ad4",
   "metadata": {},
   "outputs": [
    {
     "name": "stdout",
     "output_type": "stream",
     "text": [
      "Oracle Corporation : 78.28\n",
      "Tesla, Inc. : 879.89\n",
      "Microsoft Corporation : 300.19\n"
     ]
    }
   ],
   "source": [
    "tickers_list = [\"orcl\", \"tsla\", \"msft\"] # example list\n",
    "tickers_data= {} \n",
    "\n",
    "for ticker in tickers_list:\n",
    "    stock_info = yf.Ticker(ticker).info\n",
    "    market_price = stock_info['regularMarketPrice']\n",
    "    long_name = stock_info['longName']\n",
    "    print(long_name, ':', market_price)\n",
    "\n",
    "\n"
   ]
  },
  {
   "cell_type": "code",
   "execution_count": null,
   "id": "99ab8d43",
   "metadata": {},
   "outputs": [],
   "source": []
  }
 ],
 "metadata": {
  "kernelspec": {
   "display_name": "Python 3",
   "language": "python",
   "name": "python3"
  },
  "language_info": {
   "codemirror_mode": {
    "name": "ipython",
    "version": 3
   },
   "file_extension": ".py",
   "mimetype": "text/x-python",
   "name": "python",
   "nbconvert_exporter": "python",
   "pygments_lexer": "ipython3",
   "version": "3.8.8"
  }
 },
 "nbformat": 4,
 "nbformat_minor": 5
}
