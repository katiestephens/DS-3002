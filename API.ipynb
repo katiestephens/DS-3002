{
 "cells": [
  {
   "cell_type": "code",
   "execution_count": 4,
   "id": "397cb94c",
   "metadata": {},
   "outputs": [],
   "source": [
    "#1vFPBaImXL3jeIQYBTXwn8VVo92v1HNK4PCDZkSp\n",
    "import json\n",
    "import requests\n",
    "import yfinance as yf\n",
    "import sys"
   ]
  },
  {
   "cell_type": "code",
   "execution_count": 27,
   "id": "e8598de1",
   "metadata": {},
   "outputs": [
    {
     "name": "stdout",
     "output_type": "stream",
     "text": [
      "163.17\n",
      "Apple Inc.\n"
     ]
    }
   ],
   "source": [
    "url = \"https://yfapi.net/v6/finance/quote\"\n",
    "\n",
    "querystring = {\"symbols\":\"AAPL,BTC-USD,EURUSD=X\"}\n",
    "\n",
    "headers = {\n",
    "    'x-api-key': \"1vFPBaImXL3jeIQYBTXwn8VVo92v1HNK4PCDZkSp\"\n",
    "    }\n",
    "\n",
    "response = requests.request(\"GET\", url, headers=headers, params=querystring)\n",
    "\n",
    "stock_json = response.json()\n",
    "\n",
    "stockPrice = stock_json['quoteResponse']['result'][0]['regularMarketPrice']\n",
    "long_name = stock_json['quoteResponse']['result'][0]['longName']\n",
    "print (stockPrice)\n",
    "print(long_name)\n"
   ]
  },
  {
   "cell_type": "code",
   "execution_count": 6,
   "id": "e9199cc4",
   "metadata": {},
   "outputs": [],
   "source": [
    "# 1. Write a Python Program that accepts user input on a valid Stock TIcker\n",
    "# 2. it can be as many as you like\n",
    "# 3. output is the Long Name of the stock and it's current Price\n",
    "# 4. throw an error code if you can't find that stock\n",
    "# hint - search/google on accepting inputs from a user ArgV...\n",
    "# for example this is what it should do\n",
    "\n",
    "# python3 stockquote.py orcl,tsla,msft\n",
    "# result would be:\n",
    "# Oracle Corps: 74.45\n",
    "# Tesla Motors:  967\n",
    "# Due Friday at midnightabs\n"
   ]
  },
  {
   "cell_type": "code",
   "execution_count": 7,
   "id": "df9dd3b7",
   "metadata": {},
   "outputs": [
    {
     "name": "stdout",
     "output_type": "stream",
     "text": [
      "Oracle Corporation : 76.49\n"
     ]
    }
   ],
   "source": [
    "stock_info = yf.Ticker('ORCL').info\n",
    "\n",
    "# stock_info.keys() for other properties you can explore\n",
    "market_price = stock_info['regularMarketPrice']\n",
    "long_name = stock_info['longName']\n",
    "print(long_name, ':' , market_price)"
   ]
  },
  {
   "cell_type": "code",
   "execution_count": 36,
   "id": "90710ad4",
   "metadata": {},
   "outputs": [],
   "source": [
    "tickers_data= {} \n",
    "\n",
    "def ticker_function(ticker_list):\n",
    "    for ticker in tickers_list:\n",
    "        stock_info = yf.Ticker(ticker).info\n",
    "        market_price = stock_info['regularMarketPrice']\n",
    "        long_name = stock_info['longName']\n",
    "        print(long_name, ':', market_price)\n"
   ]
  },
  {
   "cell_type": "code",
   "execution_count": null,
   "id": "99ab8d43",
   "metadata": {},
   "outputs": [
    {
     "name": "stdout",
     "output_type": "stream",
     "text": [
      "Enter a company's ticker:ORCL, TSLA, MSFT\n",
      "Oracle Corporation : 76.49\n",
      "Tesla, Inc. : 838.29\n"
     ]
    }
   ],
   "source": [
    "stockinfo = input(\"Enter a company's ticker:\")\n",
    "final = ticker_function(stockinfo)"
   ]
  },
  {
   "cell_type": "code",
   "execution_count": null,
   "id": "b64b8b91",
   "metadata": {},
   "outputs": [],
   "source": []
  },
  {
   "cell_type": "code",
   "execution_count": null,
   "id": "15f184bb",
   "metadata": {},
   "outputs": [],
   "source": []
  }
 ],
 "metadata": {
  "kernelspec": {
   "display_name": "Python 3",
   "language": "python",
   "name": "python3"
  },
  "language_info": {
   "codemirror_mode": {
    "name": "ipython",
    "version": 3
   },
   "file_extension": ".py",
   "mimetype": "text/x-python",
   "name": "python",
   "nbconvert_exporter": "python",
   "pygments_lexer": "ipython3",
   "version": "3.8.8"
  }
 },
 "nbformat": 4,
 "nbformat_minor": 5
}
